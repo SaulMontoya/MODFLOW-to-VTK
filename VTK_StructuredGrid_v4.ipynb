{
 "cells": [
  {
   "cell_type": "code",
   "execution_count": 26,
   "metadata": {
    "collapsed": false
   },
   "outputs": [
    {
     "name": "stdout",
     "output_type": "stream",
     "text": [
      "/home/gida3pc/Documentos/MODFLOW\n"
     ]
    }
   ],
   "source": [
    "from pyevtk.hl import gridToVTK \n",
    "import numpy as np\n",
    "%cd /home/gida3pc/Documentos/MODFLOW\n",
    "#Abrir nuestro archivo\n",
    "f = open('calibracion_10sm.dis').read().splitlines()"
   ]
  },
  {
   "cell_type": "code",
   "execution_count": 27,
   "metadata": {
    "collapsed": false
   },
   "outputs": [
    {
     "data": {
      "text/plain": [
       "[10, 137, 153]"
      ]
     },
     "execution_count": 27,
     "metadata": {},
     "output_type": "execute_result"
    }
   ],
   "source": [
    "#Identificar cantidad de NLAY, NROW, NCOL\n",
    "paramdisc = map(int,f[6].split(' ')[1:4])\n",
    "paramdisc"
   ]
  },
  {
   "cell_type": "code",
   "execution_count": 28,
   "metadata": {
    "collapsed": false
   },
   "outputs": [
    {
     "data": {
      "text/plain": [
       "[782367.67015973397, 9242294.0654836092, 3200]"
      ]
     },
     "execution_count": 28,
     "metadata": {},
     "output_type": "execute_result"
    }
   ],
   "source": [
    "#Identificar origen OJO, la elev inferior se pone a mano\n",
    "origen = map(np.float64,f[1].translate(None,\"# Upper left corner: (\").translate(None,\")\").split(','))\n",
    "origen.append(3200)\n",
    "origen"
   ]
  },
  {
   "cell_type": "code",
   "execution_count": 29,
   "metadata": {
    "collapsed": false
   },
   "outputs": [
    {
     "data": {
      "text/plain": [
       "['INTERNAL 1.0 (FREE)    12 # DELR',\n",
       " 'INTERNAL 1.0 (FREE)    12 # DELC',\n",
       " 'INTERNAL 1.0 (FREE)    12 # TOP',\n",
       " 'INTERNAL 1.0 (FREE)    12 # BOTM, Aluvial/RocMet Layer 1',\n",
       " 'INTERNAL 1.0 (FREE)    12 # BOTM, Aluvial/RocMet Layer 2',\n",
       " 'INTERNAL 1.0 (FREE)    12 # BOTM, Acuif_Sup Layer 1',\n",
       " 'INTERNAL 1.0 (FREE)    12 # BOTM, Acuif_Sup Layer 2',\n",
       " 'INTERNAL 1.0 (FREE)    12 # BOTM, Acuif_Sup Layer 3',\n",
       " 'INTERNAL 1.0 (FREE)    12 # BOTM, Acuif_Med Layer 1',\n",
       " 'INTERNAL 1.0 (FREE)    12 # BOTM, Acuif_Med Layer 2',\n",
       " 'INTERNAL 1.0 (FREE)    12 # BOTM, Acuif_Med Layer 3',\n",
       " 'INTERNAL 1.0 (FREE)    12 # BOTM, Acuif_Inf Layer 1',\n",
       " 'CONSTANT    3.200000000000E+003  # BOTM, Acuif_Inf Layer 2']"
      ]
     },
     "execution_count": 29,
     "metadata": {},
     "output_type": "execute_result"
    }
   ],
   "source": [
    "itemsinternos = []\n",
    "for item in f:\n",
    "    if item.startswith('INTERNAL 1.0') == True or item.startswith('CONSTANT') == True:\n",
    "        itemsinternos.append(item)\n",
    "itemsinternos"
   ]
  },
  {
   "cell_type": "code",
   "execution_count": 30,
   "metadata": {
    "collapsed": false
   },
   "outputs": [
    {
     "name": "stdout",
     "output_type": "stream",
     "text": [
      "[8, 25, 40, 2233, 4426, 6619, 8812, 11005, 13198, 15391, 17584, 19777, 21970]\n"
     ]
    }
   ],
   "source": [
    "indexinterfases = []\n",
    "for item in itemsinternos:\n",
    "    indexinterfases.append(f.index(item))\n",
    "print indexinterfases,"
   ]
  },
  {
   "cell_type": "code",
   "execution_count": 31,
   "metadata": {
    "collapsed": false
   },
   "outputs": [],
   "source": [
    "def explotar(interfaseinicio, interfasefinal,arreglo):\n",
    "    for variable in f[interfaseinicio+1:interfasefinal]:\n",
    "        suma = variable.split('  ')\n",
    "        for dato in suma:\n",
    "            arreglo.append(float(dato))"
   ]
  },
  {
   "cell_type": "code",
   "execution_count": 32,
   "metadata": {
    "collapsed": false
   },
   "outputs": [
    {
     "data": {
      "text/plain": [
       "[782367.670159734]"
      ]
     },
     "execution_count": 32,
     "metadata": {},
     "output_type": "execute_result"
    }
   ],
   "source": [
    "iniciox, inicioy = [float(origen[0])],[float(origen[1])]\n",
    "iniciox"
   ]
  },
  {
   "cell_type": "code",
   "execution_count": 33,
   "metadata": {
    "collapsed": false
   },
   "outputs": [],
   "source": [
    "#matrices de ceros\n",
    "arr_col = np.zeros([paramdisc[1]+1,paramdisc[2]+1,paramdisc[0]+1])\n",
    "arr_fil = np.zeros([paramdisc[1]+1,paramdisc[2]+1,paramdisc[0]+1])\n",
    "arr_elev = np.zeros([paramdisc[1]+1,paramdisc[2]+1,paramdisc[0]+1])\n",
    "arr_headpt = np.zeros([paramdisc[1]+1,paramdisc[2]+1,paramdisc[0]+1])\n",
    "arr_head = np.zeros([paramdisc[1],paramdisc[2],paramdisc[0]])\n",
    "\n",
    "#importamos los inicios\n",
    "iniciox, inicioy = [float(origen[0])],[float(origen[1])]\n",
    "\n",
    "#for i in indexinterfases[0:1]: \n",
    "explotar(indexinterfases[0],indexinterfases[1],iniciox)\n",
    "explotar(indexinterfases[1],indexinterfases[2],inicioy)\n",
    "\n",
    "arr_x = np.cumsum(np.array(iniciox))\n",
    "arr_y = np.cumsum(np.array(inicioy))"
   ]
  },
  {
   "cell_type": "code",
   "execution_count": 34,
   "metadata": {
    "collapsed": false
   },
   "outputs": [],
   "source": [
    "for i in range(paramdisc[2] + 1):\n",
    "    arr_col[:,i,:] = round(arr_x[i],0)"
   ]
  },
  {
   "cell_type": "code",
   "execution_count": 35,
   "metadata": {
    "collapsed": false
   },
   "outputs": [],
   "source": [
    "for j in range(paramdisc[1] + 1):\n",
    "    arr_fil[j,:,:] = round(arr_y[j],0)"
   ]
  },
  {
   "cell_type": "code",
   "execution_count": 36,
   "metadata": {
    "collapsed": false
   },
   "outputs": [],
   "source": [
    "for i in np.arange(paramdisc[0]):\n",
    "    inicioz = []\n",
    "    explotar(indexinterfases[i+2],indexinterfases[i+3],inicioz)\n",
    "    arr_z = np.array(inicioz)\n",
    "    a = arr_z.reshape(paramdisc[1],paramdisc[2])\n",
    "    arr_elev[:,:,paramdisc[0]-i].fill(a.mean())\n",
    "    arr_elev[0:-1,0:-1,paramdisc[0]-i] = a\n",
    "\n",
    "arr_elev[:,:,0].fill(origen[2])"
   ]
  },
  {
   "cell_type": "code",
   "execution_count": 37,
   "metadata": {
    "collapsed": false
   },
   "outputs": [],
   "source": [
    "def explotarh(interfaseinicio, interfasefinal,arreglo):\n",
    "    for variable in h[interfaseinicio+1:interfasefinal]:\n",
    "        suma = variable.split('  ')\n",
    "        for dato in suma:\n",
    "            arreglo.append(float(dato))"
   ]
  },
  {
   "cell_type": "code",
   "execution_count": 38,
   "metadata": {
    "collapsed": false
   },
   "outputs": [
    {
     "data": {
      "text/plain": [
       "[0, 2193, 4386, 6579, 8772, 10965, 13158, 15351, 17544, 19737, 21930]"
      ]
     },
     "execution_count": 38,
     "metadata": {},
     "output_type": "execute_result"
    }
   ],
   "source": [
    "h = open('calibracion_10sm.fhd').read().splitlines()\n",
    "headsinternos = []\n",
    "for item in h:\n",
    "    if item.startswith('     1    1   1.000000E+00   1.000000E+00') == True:\n",
    "        headsinternos.append(h.index(item))\n",
    "headsinternos.append(len(h))\n",
    "headsinternos    "
   ]
  },
  {
   "cell_type": "code",
   "execution_count": 39,
   "metadata": {
    "collapsed": false
   },
   "outputs": [
    {
     "data": {
      "text/plain": [
       "array([ nan,  nan,  nan,  nan,  nan])"
      ]
     },
     "execution_count": 39,
     "metadata": {},
     "output_type": "execute_result"
    }
   ],
   "source": [
    "for elevperlayer in np.arange(paramdisc[0]):\n",
    "    z = []\n",
    "    a = []\n",
    "    arrv = []\n",
    "    for linea in np.arange(headsinternos[elevperlayer]+1,headsinternos[elevperlayer+1]):\n",
    "        suma = map(np.float64,h[linea].split('  ')[1:])\n",
    "        for dato in suma:\n",
    "            z.append(float(dato))\n",
    "    arr_head[:,:,paramdisc[0]-elevperlayer-1] = np.array(z).reshape(paramdisc[1],paramdisc[2])\n",
    "arr_head[arr_head <= -1.00000000e+2]= np.NAN\n",
    "arr_head[-5:,1,7]"
   ]
  },
  {
   "cell_type": "code",
   "execution_count": 64,
   "metadata": {
    "collapsed": false
   },
   "outputs": [],
   "source": [
    "arr_headpt[0:-1,0:-1,0:-1] = arr_head\n",
    "arr_headpt[-1,:,:] = arr_headpt[-2,:,:]\n",
    "arr_headpt[:,-1,:] = arr_headpt[:,-2,:]\n",
    "arr_headpt[:,:,-1] = arr_headpt[:,:,-2]\n",
    "#arr_headpt[-1,-1,:] = arr_headpt[0:-1,0:-1,0:-1]\n",
    "#arr_headpt[-1:,-1:,16]\n",
    "arr_e = arr_elev"
   ]
  },
  {
   "cell_type": "code",
   "execution_count": 66,
   "metadata": {
    "collapsed": false
   },
   "outputs": [
    {
     "data": {
      "text/plain": [
       "'/home/gida3pc/Documentos/MODFLOW/structured4.vts'"
      ]
     },
     "execution_count": 66,
     "metadata": {},
     "output_type": "execute_result"
    }
   ],
   "source": [
    "gridToVTK(\"./structured4\", arr_col, arr_fil, arr_elev, pointData = {\"elev\" : arr_e})"
   ]
  },
  {
   "cell_type": "code",
   "execution_count": 58,
   "metadata": {
    "collapsed": false
   },
   "outputs": [
    {
     "data": {
      "text/plain": [
       "'/home/gida3pc/Documentos/MODFLOW/modeltop3.vts'"
      ]
     },
     "execution_count": 58,
     "metadata": {},
     "output_type": "execute_result"
    }
   ],
   "source": [
    "gridToVTK(\"./modeltop3\", arr_col[:,:,9:], arr_fil[:,:,9:], arr_elev[:,:,9:], pointData = {\"elev\" : arr_headpt[:,:,9:]})"
   ]
  },
  {
   "cell_type": "code",
   "execution_count": 61,
   "metadata": {
    "collapsed": false
   },
   "outputs": [
    {
     "data": {
      "text/plain": [
       "array([[[ 782368.,  782368.],\n",
       "        [ 782494.,  782494.],\n",
       "        [ 782619.,  782619.],\n",
       "        [ 782742.,  782742.],\n",
       "        [ 782865.,  782865.]],\n",
       "\n",
       "       [[ 782368.,  782368.],\n",
       "        [ 782494.,  782494.],\n",
       "        [ 782619.,  782619.],\n",
       "        [ 782742.,  782742.],\n",
       "        [ 782865.,  782865.]],\n",
       "\n",
       "       [[ 782368.,  782368.],\n",
       "        [ 782494.,  782494.],\n",
       "        [ 782619.,  782619.],\n",
       "        [ 782742.,  782742.],\n",
       "        [ 782865.,  782865.]],\n",
       "\n",
       "       [[ 782368.,  782368.],\n",
       "        [ 782494.,  782494.],\n",
       "        [ 782619.,  782619.],\n",
       "        [ 782742.,  782742.],\n",
       "        [ 782865.,  782865.]],\n",
       "\n",
       "       [[ 782368.,  782368.],\n",
       "        [ 782494.,  782494.],\n",
       "        [ 782619.,  782619.],\n",
       "        [ 782742.,  782742.],\n",
       "        [ 782865.,  782865.]]])"
      ]
     },
     "execution_count": 61,
     "metadata": {},
     "output_type": "execute_result"
    }
   ],
   "source": [
    "arr_col[:5,:5,9:]"
   ]
  },
  {
   "cell_type": "code",
   "execution_count": 60,
   "metadata": {
    "collapsed": false
   },
   "outputs": [
    {
     "data": {
      "text/plain": [
       "array([[[ 9242294.,  9242294.],\n",
       "        [ 9242294.,  9242294.],\n",
       "        [ 9242294.,  9242294.],\n",
       "        [ 9242294.,  9242294.],\n",
       "        [ 9242294.,  9242294.]],\n",
       "\n",
       "       [[ 9242444.,  9242444.],\n",
       "        [ 9242444.,  9242444.],\n",
       "        [ 9242444.,  9242444.],\n",
       "        [ 9242444.,  9242444.],\n",
       "        [ 9242444.,  9242444.]],\n",
       "\n",
       "       [[ 9242594.,  9242594.],\n",
       "        [ 9242594.,  9242594.],\n",
       "        [ 9242594.,  9242594.],\n",
       "        [ 9242594.,  9242594.],\n",
       "        [ 9242594.,  9242594.]],\n",
       "\n",
       "       [[ 9242744.,  9242744.],\n",
       "        [ 9242744.,  9242744.],\n",
       "        [ 9242744.,  9242744.],\n",
       "        [ 9242744.,  9242744.],\n",
       "        [ 9242744.,  9242744.]],\n",
       "\n",
       "       [[ 9242894.,  9242894.],\n",
       "        [ 9242894.,  9242894.],\n",
       "        [ 9242894.,  9242894.],\n",
       "        [ 9242894.,  9242894.],\n",
       "        [ 9242894.,  9242894.]]])"
      ]
     },
     "execution_count": 60,
     "metadata": {},
     "output_type": "execute_result"
    }
   ],
   "source": [
    "arr_fil[:5,:5,9:]"
   ]
  },
  {
   "cell_type": "code",
   "execution_count": null,
   "metadata": {
    "collapsed": false
   },
   "outputs": [],
   "source": []
  }
 ],
 "metadata": {
  "kernelspec": {
   "display_name": "Python 2",
   "language": "python",
   "name": "python2"
  },
  "language_info": {
   "codemirror_mode": {
    "name": "ipython",
    "version": 2
   },
   "file_extension": ".py",
   "mimetype": "text/x-python",
   "name": "python",
   "nbconvert_exporter": "python",
   "pygments_lexer": "ipython2",
   "version": "2.7.6"
  }
 },
 "nbformat": 4,
 "nbformat_minor": 0
}
