{
 "metadata": {
  "name": ""
 },
 "nbformat": 3,
 "nbformat_minor": 0,
 "worksheets": [
  {
   "cells": [
    {
     "cell_type": "code",
     "collapsed": false,
     "input": [
      "from pyevtk.hl import gridToVTK \n",
      "import numpy as np\n",
      "#Abrir nuestro archivo\n",
      "f = open('calibracion_8.dis').read().splitlines()"
     ],
     "language": "python",
     "metadata": {},
     "outputs": [],
     "prompt_number": 2
    },
    {
     "cell_type": "code",
     "collapsed": false,
     "input": [
      "#Identificar cantidad de NLAY, NROW, NCOL\n",
      "paramdisc = map(int,f[6].split(' ')[1:4])\n",
      "paramdisc"
     ],
     "language": "python",
     "metadata": {},
     "outputs": [
      {
       "metadata": {},
       "output_type": "pyout",
       "prompt_number": 8,
       "text": [
        "[16, 102, 114]"
       ]
      }
     ],
     "prompt_number": 8
    },
    {
     "cell_type": "code",
     "collapsed": false,
     "input": [
      "#Identificar origen y espacimiento en XeY\n",
      "origen = map(np.float64,f[1].translate(None,\"# Upper left corner: (\").translate(None,\")\").split(','))\n",
      "origen"
     ],
     "language": "python",
     "metadata": {},
     "outputs": [
      {
       "metadata": {},
       "output_type": "pyout",
       "prompt_number": 9,
       "text": [
        "[788614.25813156099, 9242757.9818222597]"
       ]
      }
     ],
     "prompt_number": 9
    },
    {
     "cell_type": "code",
     "collapsed": false,
     "input": [
      "itemsinternos = []\n",
      "for item in f:\n",
      "    if item.startswith('INTERNAL 1.0') == True or item.startswith('CONSTANT') == True:\n",
      "        itemsinternos.append(item)\n",
      "itemsinternos[2:-1]"
     ],
     "language": "python",
     "metadata": {},
     "outputs": [
      {
       "metadata": {},
       "output_type": "pyout",
       "prompt_number": 11,
       "text": [
        "['INTERNAL 1.0 (FREE)    12 # TOP',\n",
        " 'INTERNAL 1.0 (FREE)    12 # BOTM, Aluvial/RocMet',\n",
        " 'INTERNAL 1.0 (FREE)    12 # BOTM, Acuif_Sup Layer 1',\n",
        " 'INTERNAL 1.0 (FREE)    12 # BOTM, Acuif_Sup Layer 2',\n",
        " 'INTERNAL 1.0 (FREE)    12 # BOTM, Acuif_Sup Layer 3',\n",
        " 'INTERNAL 1.0 (FREE)    12 # BOTM, Acuif_Sup Layer 4',\n",
        " 'INTERNAL 1.0 (FREE)    12 # BOTM, Acuif_Sup Layer 5',\n",
        " 'INTERNAL 1.0 (FREE)    12 # BOTM, Acuif_Sup Layer 6',\n",
        " 'INTERNAL 1.0 (FREE)    12 # BOTM, Acuif_Med Layer 1',\n",
        " 'INTERNAL 1.0 (FREE)    12 # BOTM, Acuif_Med Layer 2',\n",
        " 'INTERNAL 1.0 (FREE)    12 # BOTM, Acuif_Med Layer 3',\n",
        " 'INTERNAL 1.0 (FREE)    12 # BOTM, Acuif_Med Layer 4',\n",
        " 'INTERNAL 1.0 (FREE)    12 # BOTM, Acuif_Med Layer 5',\n",
        " 'INTERNAL 1.0 (FREE)    12 # BOTM, Acuif_Med Layer 6',\n",
        " 'INTERNAL 1.0 (FREE)    12 # BOTM, Acuif_Inf Layer 1',\n",
        " 'INTERNAL 1.0 (FREE)    12 # BOTM, Acuif_Inf Layer 2']"
       ]
      }
     ],
     "prompt_number": 11
    },
    {
     "cell_type": "code",
     "collapsed": false,
     "input": [
      "indexinterfases = []\n",
      "for item in itemsinternos:\n",
      "    indexinterfases.append(f.index(item))\n",
      "print indexinterfases,"
     ],
     "language": "python",
     "metadata": {},
     "outputs": [
      {
       "output_type": "stream",
       "stream": "stdout",
       "text": [
        "[8, 21, 33, 1258, 2483, 3708, 4933, 6158, 7383, 8608, 9833, 11058, 12283, 13508, 14733, 15958, 17183, 18408, 19633]\n"
       ]
      }
     ],
     "prompt_number": 12
    },
    {
     "cell_type": "code",
     "collapsed": false,
     "input": [
      "def explotar(interfaseinicio, interfasefinal,arreglo):\n",
      "    for variable in f[interfaseinicio+1:interfasefinal]:\n",
      "        suma = variable.split('  ')\n",
      "        for dato in suma:\n",
      "            arreglo.append(float(dato))"
     ],
     "language": "python",
     "metadata": {},
     "outputs": [],
     "prompt_number": 13
    },
    {
     "cell_type": "code",
     "collapsed": false,
     "input": [
      "iniciox, inicioy = [float(origen[0])],[float(origen[1])]\n",
      "iniciox"
     ],
     "language": "python",
     "metadata": {},
     "outputs": [
      {
       "metadata": {},
       "output_type": "pyout",
       "prompt_number": 40,
       "text": [
        "[788614.258131561]"
       ]
      }
     ],
     "prompt_number": 40
    },
    {
     "cell_type": "code",
     "collapsed": false,
     "input": [
      "#matrices de ceros\n",
      "coordx = np.zeros([paramdisc[1]+1,paramdisc[2]+1,paramdisc[0]+1])\n",
      "coordy = np.zeros([paramdisc[1]+1,paramdisc[2]+1,paramdisc[0]+1])\n",
      "\n",
      "#importamos los inicios\n",
      "iniciox, inicioy = [float(origen[0])],[float(origen[1])]\n",
      "\n",
      "#for i in indexinterfases[0:1]: \n",
      "explotar(indexinterfases[0],indexinterfases[1],iniciox)\n",
      "explotar(indexinterfases[1],indexinterfases[2],inicioy)\n",
      "\n",
      "arr_x = np.cumsum(np.array(iniciox))\n",
      "arr_y = np.cumsum(np.array(inicioy))\n",
      "\n",
      "for k in range(paramdisc[0]+1): \n",
      "    for j in range(paramdisc[2] + 1):\n",
      "        for i in range(paramdisc[1]+1):\n",
      "            coordx[i,j,k] = round(arr_x [i],0)\n",
      "            coordy[i,j,k] = round(arr_y [i],0)\n",
      "    \n",
      "coordx.shape\n",
      "#aqui me quede"
     ],
     "language": "python",
     "metadata": {},
     "outputs": [
      {
       "metadata": {},
       "output_type": "pyout",
       "prompt_number": 51,
       "text": [
        "(103, 115, 17)"
       ]
      }
     ],
     "prompt_number": 51
    },
    {
     "cell_type": "code",
     "collapsed": false,
     "input": [],
     "language": "python",
     "metadata": {},
     "outputs": [],
     "prompt_number": 81
    }
   ],
   "metadata": {}
  }
 ]
}