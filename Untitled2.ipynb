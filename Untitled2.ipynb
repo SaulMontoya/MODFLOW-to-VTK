{
 "metadata": {
  "name": ""
 },
 "nbformat": 3,
 "nbformat_minor": 0,
 "worksheets": [
  {
   "cells": [
    {
     "cell_type": "code",
     "collapsed": false,
     "input": [
      "from pyevtk.hl import imageToVTK \n",
      "\n",
      "import numpy as np  \n",
      "\n",
      "# Dimensions \n",
      "\n",
      "nx, ny, nz = 6, 6, 1 \n",
      "\n",
      "ncells = nx * ny * nz \n",
      "\n",
      "npoints = (nx + 1) * (ny + 1) * (nz + 1) \n",
      "\n",
      "# Variables \n",
      "\n",
      "pressure = np.random.rand(ncells).reshape( (nx, ny, nz), order = 'C') \n",
      "\n",
      "temp = np.random.rand(npoints).reshape( (nx + 1, ny + 1, nz + 1)) \n",
      "\n",
      "imageToVTK(\"./image\", cellData = {\"pressure\" : pressure}, pointData = {\"temp\" : temp} )"
     ],
     "language": "python",
     "metadata": {},
     "outputs": [
      {
       "metadata": {},
       "output_type": "pyout",
       "prompt_number": 3,
       "text": [
        "'/home/gida3pc/MEGAsync/Python/VTK/image.vti'"
       ]
      }
     ],
     "prompt_number": 3
    },
    {
     "cell_type": "code",
     "collapsed": false,
     "input": [],
     "language": "python",
     "metadata": {},
     "outputs": []
    }
   ],
   "metadata": {}
  }
 ]
}