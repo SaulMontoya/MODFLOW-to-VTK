{
 "metadata": {
  "name": ""
 },
 "nbformat": 3,
 "nbformat_minor": 0,
 "worksheets": [
  {
   "cells": [
    {
     "cell_type": "code",
     "collapsed": false,
     "input": [
      "from pyevtk.hl import gridToVTK \n",
      "import numpy as np\n",
      "#Abrir nuestro archivo\n",
      "f = open('calibracion_8.dis').read().splitlines()"
     ],
     "language": "python",
     "metadata": {},
     "outputs": [],
     "prompt_number": 38
    },
    {
     "cell_type": "code",
     "collapsed": false,
     "input": [
      "\n",
      "\n",
      "#Identificar cantidad de NLAY, NROW, NCOL\n",
      "paramdisc = f[6].split(' ')[1:4]\n",
      "paramdisc = map(int,paramdisc)\n",
      "paramdisc"
     ],
     "language": "python",
     "metadata": {},
     "outputs": [
      {
       "metadata": {},
       "output_type": "pyout",
       "prompt_number": 104,
       "text": [
        "[16, 102, 114]"
       ]
      }
     ],
     "prompt_number": 104
    },
    {
     "cell_type": "code",
     "collapsed": false,
     "input": [
      "#Identificar origen y espacimiento en XeY\n",
      "origen = f[1].translate(None,\"# Upper left corner: (\").translate(None,\")\").split(',')\n",
      "origen = map(np.float64,origen)\n",
      "origen"
     ],
     "language": "python",
     "metadata": {},
     "outputs": [
      {
       "metadata": {},
       "output_type": "pyout",
       "prompt_number": 105,
       "text": [
        "[788614.25813156099, 9242757.9818222597]"
       ]
      }
     ],
     "prompt_number": 105
    },
    {
     "cell_type": "code",
     "collapsed": false,
     "input": [
      "itemsinternos = []\n",
      "for item in f:\n",
      "    if item.startswith('INTERNAL 1.0') == True or item.startswith('CONSTANT' ) == True:\n",
      "        itemsinternos.append(item)\n",
      "itemsinternos[2:-1]"
     ],
     "language": "python",
     "metadata": {},
     "outputs": [
      {
       "metadata": {},
       "output_type": "pyout",
       "prompt_number": 41,
       "text": [
        "['INTERNAL 1.0 (FREE)    12 # TOP',\n",
        " 'INTERNAL 1.0 (FREE)    12 # BOTM, Aluvial/RocMet',\n",
        " 'INTERNAL 1.0 (FREE)    12 # BOTM, Acuif_Sup Layer 1',\n",
        " 'INTERNAL 1.0 (FREE)    12 # BOTM, Acuif_Sup Layer 2',\n",
        " 'INTERNAL 1.0 (FREE)    12 # BOTM, Acuif_Sup Layer 3',\n",
        " 'INTERNAL 1.0 (FREE)    12 # BOTM, Acuif_Sup Layer 4',\n",
        " 'INTERNAL 1.0 (FREE)    12 # BOTM, Acuif_Sup Layer 5',\n",
        " 'INTERNAL 1.0 (FREE)    12 # BOTM, Acuif_Sup Layer 6',\n",
        " 'INTERNAL 1.0 (FREE)    12 # BOTM, Acuif_Med Layer 1',\n",
        " 'INTERNAL 1.0 (FREE)    12 # BOTM, Acuif_Med Layer 2',\n",
        " 'INTERNAL 1.0 (FREE)    12 # BOTM, Acuif_Med Layer 3',\n",
        " 'INTERNAL 1.0 (FREE)    12 # BOTM, Acuif_Med Layer 4',\n",
        " 'INTERNAL 1.0 (FREE)    12 # BOTM, Acuif_Med Layer 5',\n",
        " 'INTERNAL 1.0 (FREE)    12 # BOTM, Acuif_Med Layer 6',\n",
        " 'INTERNAL 1.0 (FREE)    12 # BOTM, Acuif_Inf Layer 1',\n",
        " 'INTERNAL 1.0 (FREE)    12 # BOTM, Acuif_Inf Layer 2']"
       ]
      }
     ],
     "prompt_number": 41
    },
    {
     "cell_type": "code",
     "collapsed": false,
     "input": [
      "indexinterfases = []\n",
      "for item in itemsinternos:\n",
      "    iteminter = f.index(item)\n",
      "    indexinterfases.append(iteminter)\n",
      "print indexinterfases,"
     ],
     "language": "python",
     "metadata": {},
     "outputs": [
      {
       "output_type": "stream",
       "stream": "stdout",
       "text": [
        "[8, 21, 33, 1258, 2483, 3708, 4933, 6158, 7383, 8608, 9833, 11058, 12283, 13508, 14733, 15958, 17183, 18408, 19633]\n"
       ]
      }
     ],
     "prompt_number": 106
    },
    {
     "cell_type": "code",
     "collapsed": false,
     "input": [
      "def explotar(interfaseinicio, interfasefinal,arreglo):\n",
      "    for variable in f[interfaseinicio+1:interfasefinal]:\n",
      "        suma = variable.split('  ')\n",
      "        for dato in suma:\n",
      "            arreglo.append(float(dato))"
     ],
     "language": "python",
     "metadata": {},
     "outputs": [],
     "prompt_number": 75
    },
    {
     "cell_type": "code",
     "collapsed": false,
     "input": [
      "#listainterna = [n for n in range(paramdisc[0])]\n",
      "paramdisc[2]+1"
     ],
     "language": "python",
     "metadata": {},
     "outputs": [
      {
       "metadata": {},
       "output_type": "pyout",
       "prompt_number": 110,
       "text": [
        "115"
       ]
      }
     ],
     "prompt_number": 110
    },
    {
     "cell_type": "code",
     "collapsed": false,
     "input": [
      "coordx = np.zeros([paramdisc[1]+1,paramdisc[2]+1,paramdisc[0]+1])\n",
      "iniciox = [float(origen[0])]\n",
      "\n",
      "for i in listainterna[0:1]: \n",
      "    explotar(indexinterfases[i],indexinterfases[i+1],iniciox)\n",
      "    \n",
      "a = np.array(iniciox)\n",
      "a = a.cumsum()\n",
      "\n",
      "for k in range(paramdisc[0]+1): \n",
      "    for j in range(paramdisc[2] + 1):\n",
      "        for i in range(paramdisc[1]+1):\n",
      "            coordx[i,j,k] = a[i] \n",
      "    \n",
      "coordx.shape\n",
      "#aqui me quede"
     ],
     "language": "python",
     "metadata": {},
     "outputs": [
      {
       "metadata": {},
       "output_type": "pyout",
       "prompt_number": 166,
       "text": [
        "(103, 115, 17)"
       ]
      }
     ],
     "prompt_number": 166
    },
    {
     "cell_type": "code",
     "collapsed": false,
     "input": [
      "c = range(paramdisc[0]+1)\n",
      "print c"
     ],
     "language": "python",
     "metadata": {},
     "outputs": [
      {
       "output_type": "stream",
       "stream": "stdout",
       "text": [
        "[0, 1, 2, 3, 4, 5, 6, 7, 8, 9, 10, 11, 12, 13, 14, 15, 16]\n"
       ]
      }
     ],
     "prompt_number": 163
    },
    {
     "cell_type": "code",
     "collapsed": false,
     "input": [
      "coordfil = [float(origen[0])]\n",
      "#coordfil = []\n",
      "explotar(indexinterfases[0],indexinterfases[1],coordfil)\n",
      "np.cumsum(coordfil)[0:15]"
     ],
     "language": "python",
     "metadata": {},
     "outputs": [
      {
       "metadata": {},
       "output_type": "pyout",
       "prompt_number": 77,
       "text": [
        "array([ 788614.25813156,  788714.25813156,  788814.25813156,\n",
        "        788914.25813156,  789014.25813156,  789114.25813156,\n",
        "        789214.25813156,  789314.25813156,  789414.25813156,\n",
        "        789514.25813156,  789614.25813156,  789714.25813156,\n",
        "        789814.25813156,  789914.25813156,  790014.25813156])"
       ]
      }
     ],
     "prompt_number": 77
    },
    {
     "cell_type": "code",
     "collapsed": false,
     "input": [
      "coordcol = [float(origen[1])]\n",
      "explotar(indexinterfases[1],indexinterfases[2],coordcol)\n",
      "np.cumsum(coordcol)[0:15]"
     ],
     "language": "python",
     "metadata": {},
     "outputs": [
      {
       "metadata": {},
       "output_type": "pyout",
       "prompt_number": 78,
       "text": [
        "array([ 9242757.98182226,  9242857.98182226,  9242957.98182226,\n",
        "        9243057.98182226,  9243157.98182226,  9243257.98182226,\n",
        "        9243357.98182226,  9243457.98182226,  9243557.98182226,\n",
        "        9243657.98182226,  9243757.98182226,  9243857.98182226,\n",
        "        9243957.98182226,  9244057.98182226,  9244157.98182226])"
       ]
      }
     ],
     "prompt_number": 78
    },
    {
     "cell_type": "code",
     "collapsed": false,
     "input": [
      "listainterna = [n for n in range(len(itemsinternos))]\n",
      "listainterna"
     ],
     "language": "python",
     "metadata": {},
     "outputs": [
      {
       "metadata": {},
       "output_type": "pyout",
       "prompt_number": 79,
       "text": [
        "[0, 1, 2, 3, 4, 5, 6, 7, 8, 9, 10, 11, 12, 13, 14, 15, 16, 17, 18]"
       ]
      }
     ],
     "prompt_number": 79
    },
    {
     "cell_type": "code",
     "collapsed": false,
     "input": [
      "z = np.empty([len(itemsinternos[2:-1]),int(paramdisc[2]),int(paramdisc[3])])\n",
      "for i in listainterna[2:-1]:\n",
      "    elevaciones =[]\n",
      "    explotar(indexinterfases[i],indexinterfases[i+1],elevaciones)\n",
      "    zly = np.array(elevaciones)\n",
      "    zfrmod = zly.reshape((int(paramdisc[2]),int(paramdisc[3])))\n",
      "    z[i-2] = zfrmod\n",
      "z"
     ],
     "language": "python",
     "metadata": {},
     "outputs": [
      {
       "ename": "IndexError",
       "evalue": "list index out of range",
       "output_type": "pyerr",
       "traceback": [
        "\u001b[0;31m---------------------------------------------------------------------------\u001b[0m\n\u001b[0;31mIndexError\u001b[0m                                Traceback (most recent call last)",
        "\u001b[0;32m<ipython-input-80-ce156ab2f084>\u001b[0m in \u001b[0;36m<module>\u001b[0;34m()\u001b[0m\n\u001b[0;32m----> 1\u001b[0;31m \u001b[0mz\u001b[0m \u001b[0;34m=\u001b[0m \u001b[0mnp\u001b[0m\u001b[0;34m.\u001b[0m\u001b[0mempty\u001b[0m\u001b[0;34m(\u001b[0m\u001b[0;34m[\u001b[0m\u001b[0mlen\u001b[0m\u001b[0;34m(\u001b[0m\u001b[0mitemsinternos\u001b[0m\u001b[0;34m[\u001b[0m\u001b[0;36m2\u001b[0m\u001b[0;34m:\u001b[0m\u001b[0;34m-\u001b[0m\u001b[0;36m1\u001b[0m\u001b[0;34m]\u001b[0m\u001b[0;34m)\u001b[0m\u001b[0;34m,\u001b[0m\u001b[0mint\u001b[0m\u001b[0;34m(\u001b[0m\u001b[0mparamdisc\u001b[0m\u001b[0;34m[\u001b[0m\u001b[0;36m2\u001b[0m\u001b[0;34m]\u001b[0m\u001b[0;34m)\u001b[0m\u001b[0;34m,\u001b[0m\u001b[0mint\u001b[0m\u001b[0;34m(\u001b[0m\u001b[0mparamdisc\u001b[0m\u001b[0;34m[\u001b[0m\u001b[0;36m3\u001b[0m\u001b[0;34m]\u001b[0m\u001b[0;34m)\u001b[0m\u001b[0;34m]\u001b[0m\u001b[0;34m)\u001b[0m\u001b[0;34m\u001b[0m\u001b[0m\n\u001b[0m\u001b[1;32m      2\u001b[0m \u001b[0;32mfor\u001b[0m \u001b[0mi\u001b[0m \u001b[0;32min\u001b[0m \u001b[0mlistainterna\u001b[0m\u001b[0;34m[\u001b[0m\u001b[0;36m2\u001b[0m\u001b[0;34m:\u001b[0m\u001b[0;34m-\u001b[0m\u001b[0;36m1\u001b[0m\u001b[0;34m]\u001b[0m\u001b[0;34m:\u001b[0m\u001b[0;34m\u001b[0m\u001b[0m\n\u001b[1;32m      3\u001b[0m     \u001b[0melevaciones\u001b[0m \u001b[0;34m=\u001b[0m\u001b[0;34m[\u001b[0m\u001b[0;34m]\u001b[0m\u001b[0;34m\u001b[0m\u001b[0m\n\u001b[1;32m      4\u001b[0m     \u001b[0mexplotar\u001b[0m\u001b[0;34m(\u001b[0m\u001b[0mindexinterfases\u001b[0m\u001b[0;34m[\u001b[0m\u001b[0mi\u001b[0m\u001b[0;34m]\u001b[0m\u001b[0;34m,\u001b[0m\u001b[0mindexinterfases\u001b[0m\u001b[0;34m[\u001b[0m\u001b[0mi\u001b[0m\u001b[0;34m+\u001b[0m\u001b[0;36m1\u001b[0m\u001b[0;34m]\u001b[0m\u001b[0;34m,\u001b[0m\u001b[0melevaciones\u001b[0m\u001b[0;34m)\u001b[0m\u001b[0;34m\u001b[0m\u001b[0m\n\u001b[1;32m      5\u001b[0m     \u001b[0mzly\u001b[0m \u001b[0;34m=\u001b[0m \u001b[0mnp\u001b[0m\u001b[0;34m.\u001b[0m\u001b[0marray\u001b[0m\u001b[0;34m(\u001b[0m\u001b[0melevaciones\u001b[0m\u001b[0;34m)\u001b[0m\u001b[0;34m\u001b[0m\u001b[0m\n",
        "\u001b[0;31mIndexError\u001b[0m: list index out of range"
       ]
      }
     ],
     "prompt_number": 80
    },
    {
     "cell_type": "code",
     "collapsed": false,
     "input": [
      " = np.loadtxt('calibracion_8.dis')\n",
      "\n",
      "# Definiendo las dimensiones\n",
      "\n",
      "nx, ny, nz = paramdisc[3], paramdisc[2], paramdisc[1] \n",
      "\n",
      "#lx, ly, lz = 1.0, 0.8, 0.2 \n",
      "\n",
      "#dx, dy, dz = lx/nx, ly/ny, lz/nz \n",
      "\n",
      "ncells = nx * ny * nz \n",
      "\n",
      "#npoints = (nx + 1) * (ny + 1) * (nz + 1) \n",
      "\n",
      "# Coordinates \n",
      "\n",
      "X = np.arange(origen[0], lx + 0.1*dx, dx, dtype='float64') \n",
      "\n",
      "Y = np.arange(origen[1], ly + 0.1*dy, dy, dtype='float64') \n",
      "\n",
      "Z = np.arange(0, lz + 0.1*dz, dz, dtype='float64') \n",
      "\n",
      "x = np.zeros((nx + 1, ny + 1, nz + 1)) \n",
      "\n",
      "y = np.zeros((nx + 1, ny + 1, nz + 1)) \n",
      "\n",
      "z = np.zeros((nx + 1, ny + 1, nz + 1)) \n",
      "\n",
      "# We add some random fluctuation to make the grid more interesting \n",
      "\n",
      "for k in range(nz + 1): \n",
      "\n",
      "    for j in range(ny + 1):\n",
      "        for i in range(nx + 1): \n",
      " \n",
      "            x[i,j,k] = X[i]  \n",
      "\n",
      "            y[i,j,k] = Y[j]  \n",
      "\n",
      "            z[i,j,k] = Z[k]  \n",
      "\n",
      "# Variables \n",
      "\n",
      "pressure = np.random.rand(ncells).reshape( (nx, ny, nz)) \n",
      "\n",
      "temp = np.random.rand(npoints).reshape( (nx + 1, ny + 1, nz + 1)) \n",
      "\n",
      "gridToVTK(\"./structured\", x, y, z, cellData = {\"pressure\" : pressure}, pointData = {\"temp\" : temp})"
     ],
     "language": "python",
     "metadata": {},
     "outputs": []
    },
    {
     "cell_type": "code",
     "collapsed": false,
     "input": [
      "X"
     ],
     "language": "python",
     "metadata": {},
     "outputs": []
    },
    {
     "cell_type": "code",
     "collapsed": false,
     "input": [
      "Y"
     ],
     "language": "python",
     "metadata": {},
     "outputs": []
    },
    {
     "cell_type": "code",
     "collapsed": false,
     "input": [
      "x"
     ],
     "language": "python",
     "metadata": {},
     "outputs": [
      {
       "ename": "NameError",
       "evalue": "name 'x' is not defined",
       "output_type": "pyerr",
       "traceback": [
        "\u001b[0;31m---------------------------------------------------------------------------\u001b[0m\n\u001b[0;31mNameError\u001b[0m                                 Traceback (most recent call last)",
        "\u001b[0;32m<ipython-input-81-401b30e3b8b5>\u001b[0m in \u001b[0;36m<module>\u001b[0;34m()\u001b[0m\n\u001b[0;32m----> 1\u001b[0;31m \u001b[0mx\u001b[0m\u001b[0;34m\u001b[0m\u001b[0m\n\u001b[0m",
        "\u001b[0;31mNameError\u001b[0m: name 'x' is not defined"
       ]
      }
     ],
     "prompt_number": 81
    },
    {
     "cell_type": "code",
     "collapsed": false,
     "input": [],
     "language": "python",
     "metadata": {},
     "outputs": [],
     "prompt_number": 81
    }
   ],
   "metadata": {}
  }
 ]
}