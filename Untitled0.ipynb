{
 "metadata": {
  "name": ""
 },
 "nbformat": 3,
 "nbformat_minor": 0,
 "worksheets": [
  {
   "cells": [
    {
     "cell_type": "code",
     "collapsed": false,
     "input": [
      "from pyevtk.hl import gridToVTK \n",
      "\n",
      "import numpy as np \n",
      "\n",
      "# Dimensions \n",
      "\n",
      "nx, ny, nz = 6, 6, 2 \n",
      "\n",
      "lx, ly, lz = 1.0, 1.0, 1.0 \n",
      "\n",
      "dx, dy, dz = lx/nx, ly/ny, lz/nz \n",
      "\n",
      "ncells = nx * ny * nz \n",
      "\n",
      "npoints = (nx + 1) * (ny + 1) * (nz + 1) \n",
      "\n",
      "# Coordinates \n",
      "\n",
      "x = np.arange(0, lx + 0.1*dx, dx, dtype='float64') \n",
      "\n",
      "y = np.arange(0, ly + 0.1*dy, dy, dtype='float64') \n",
      "\n",
      "z = np.arange(0, lz + 0.1*dz, dz, dtype='float64') \n",
      "\n",
      "# Variables \n",
      " \n",
      "pressure = np.random.rand(ncells).reshape( (nx, ny, nz)) \n",
      "\n",
      "temp = np.random.rand(npoints).reshape( (nx + 1, ny + 1, nz + 1)) \n",
      "\n",
      "gridToVTK(\"./rectilinear\", x, y, z, cellData = {\"pressure\" : pressure}, pointData = {\"temp\" : temp}) "
     ],
     "language": "python",
     "metadata": {},
     "outputs": [
      {
       "metadata": {},
       "output_type": "pyout",
       "prompt_number": 5,
       "text": [
        "'/home/gida3pc/MEGAsync/Python/VTK/rectilinear.vtr'"
       ]
      }
     ],
     "prompt_number": 5
    },
    {
     "cell_type": "code",
     "collapsed": false,
     "input": [
      "z"
     ],
     "language": "python",
     "metadata": {},
     "outputs": [
      {
       "metadata": {},
       "output_type": "pyout",
       "prompt_number": 8,
       "text": [
        "array([ 0. ,  0.5,  1. ])"
       ]
      }
     ],
     "prompt_number": 8
    },
    {
     "cell_type": "code",
     "collapsed": false,
     "input": [
      "x"
     ],
     "language": "python",
     "metadata": {},
     "outputs": [
      {
       "metadata": {},
       "output_type": "pyout",
       "prompt_number": 9,
       "text": [
        "array([ 0.        ,  0.16666667,  0.33333333,  0.5       ,  0.66666667,\n",
        "        0.83333333,  1.        ])"
       ]
      }
     ],
     "prompt_number": 9
    },
    {
     "cell_type": "code",
     "collapsed": false,
     "input": [
      "y"
     ],
     "language": "python",
     "metadata": {},
     "outputs": [
      {
       "metadata": {},
       "output_type": "pyout",
       "prompt_number": 10,
       "text": [
        "array([ 0.        ,  0.16666667,  0.33333333,  0.5       ,  0.66666667,\n",
        "        0.83333333,  1.        ])"
       ]
      }
     ],
     "prompt_number": 10
    },
    {
     "cell_type": "code",
     "collapsed": false,
     "input": [],
     "language": "python",
     "metadata": {},
     "outputs": []
    }
   ],
   "metadata": {}
  }
 ]
}